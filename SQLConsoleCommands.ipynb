{
 "cells": [
  {
   "cell_type": "markdown",
   "id": "84e12378-6131-4a0e-bab8-c9de0e878401",
   "metadata": {},
   "source": [
    "### SQL Console Commands"
   ]
  },
  {
   "cell_type": "markdown",
   "id": "d5b3cb08-87e7-432e-b9f1-a9237fee80d9",
   "metadata": {},
   "source": [
    "\n",
    "#### Connection to MySQL users on terminal\n",
    "##### Without password\n",
    "```bash\n",
    "mysql -u root\n",
    "```\n",
    "##### With password\n",
    "```bash\n",
    "mysql -u root -p\n",
    "```"
   ]
  },
  {
   "cell_type": "code",
   "execution_count": null,
   "id": "17f68bcd-d230-47de-8a37-c708a608ce12",
   "metadata": {},
   "outputs": [],
   "source": []
  }
 ],
 "metadata": {
  "kernelspec": {
   "display_name": "Python 3 (ipykernel)",
   "language": "python",
   "name": "python3"
  },
  "language_info": {
   "codemirror_mode": {
    "name": "ipython",
    "version": 3
   },
   "file_extension": ".py",
   "mimetype": "text/x-python",
   "name": "python",
   "nbconvert_exporter": "python",
   "pygments_lexer": "ipython3",
   "version": "3.12.4"
  }
 },
 "nbformat": 4,
 "nbformat_minor": 5
}
